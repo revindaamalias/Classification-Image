{
  "nbformat": 4,
  "nbformat_minor": 0,
  "metadata": {
    "colab": {
      "name": "2D_Geometry_Image_2.ipynb",
      "provenance": [],
      "collapsed_sections": [],
      "include_colab_link": true
    },
    "kernelspec": {
      "display_name": "Python 3",
      "name": "python3"
    },
    "language_info": {
      "name": "python"
    }
  },
  "cells": [
    {
      "cell_type": "markdown",
      "metadata": {
        "id": "view-in-github",
        "colab_type": "text"
      },
      "source": [
        "<a href=\"https://colab.research.google.com/github/revindaamalias/Classification-Image/blob/main/2D_Geometry_Image_2.ipynb\" target=\"_parent\"><img src=\"https://colab.research.google.com/assets/colab-badge.svg\" alt=\"Open In Colab\"/></a>"
      ]
    },
    {
      "cell_type": "code",
      "metadata": {
        "id": "Zybh80czZnWP"
      },
      "source": [
        "# import library\n",
        "import os\n",
        "import numpy as np\n",
        "import matplotlib.pyplot as plt\n",
        "import matplotlib.image as mpimg\n",
        "%matplotlib inline\n",
        "\n",
        "from google.colab import files, drive"
      ],
      "execution_count": 1,
      "outputs": []
    },
    {
      "cell_type": "code",
      "metadata": {
        "colab": {
          "base_uri": "https://localhost:8080/"
        },
        "id": "vABNVvDGVHd6",
        "outputId": "293d9cd3-bb65-4737-f2e5-509024349a62"
      },
      "source": [
        "# melakukan dataset split\n",
        "!pip install split-folders\n",
        "import splitfolders \n",
        "import shutil"
      ],
      "execution_count": 2,
      "outputs": [
        {
          "output_type": "stream",
          "text": [
            "Collecting split-folders\n",
            "  Downloading https://files.pythonhosted.org/packages/b8/5f/3c2b2f7ea5e047c8cdc3bb00ae582c5438fcdbbedcc23b3cc1c2c7aae642/split_folders-0.4.3-py3-none-any.whl\n",
            "Installing collected packages: split-folders\n",
            "Successfully installed split-folders-0.4.3\n"
          ],
          "name": "stdout"
        }
      ]
    },
    {
      "cell_type": "code",
      "metadata": {
        "colab": {
          "base_uri": "https://localhost:8080/"
        },
        "id": "S_9In_GKVMqS",
        "outputId": "3831d09a-f31a-49ae-ae82-9b80b1f17b15"
      },
      "source": [
        "# import library tensorflow\n",
        "!pip install tensorboard\n",
        "!pip install split-folders tqdm\n",
        "import splitfolders\n",
        "import tensorflow as tf\n",
        "from tensorflow.keras.optimizers import RMSprop, Adam\n",
        "from tensorflow.keras.models import Sequential\n",
        "from tensorflow.keras.layers import Dense, Conv2D, Flatten, Dropout, MaxPooling2D\n",
        "from tensorflow.keras.preprocessing.image import ImageDataGenerator\n",
        "from tensorflow.keras.applications import DenseNet121\n",
        "import zipfile,os\n",
        "import numpy as np\n",
        "from google.colab import files\n",
        "from keras.preprocessing import image\n",
        "import matplotlib.pyplot as plt\n",
        "import matplotlib.image as mpimg\n",
        "print(tf.__version__)"
      ],
      "execution_count": 3,
      "outputs": [
        {
          "output_type": "stream",
          "text": [
            "Requirement already satisfied: tensorboard in /usr/local/lib/python3.7/dist-packages (2.5.0)\n",
            "Requirement already satisfied: markdown>=2.6.8 in /usr/local/lib/python3.7/dist-packages (from tensorboard) (3.3.4)\n",
            "Requirement already satisfied: setuptools>=41.0.0 in /usr/local/lib/python3.7/dist-packages (from tensorboard) (56.1.0)\n",
            "Requirement already satisfied: google-auth-oauthlib<0.5,>=0.4.1 in /usr/local/lib/python3.7/dist-packages (from tensorboard) (0.4.4)\n",
            "Requirement already satisfied: protobuf>=3.6.0 in /usr/local/lib/python3.7/dist-packages (from tensorboard) (3.12.4)\n",
            "Requirement already satisfied: grpcio>=1.24.3 in /usr/local/lib/python3.7/dist-packages (from tensorboard) (1.34.1)\n",
            "Requirement already satisfied: absl-py>=0.4 in /usr/local/lib/python3.7/dist-packages (from tensorboard) (0.12.0)\n",
            "Requirement already satisfied: requests<3,>=2.21.0 in /usr/local/lib/python3.7/dist-packages (from tensorboard) (2.23.0)\n",
            "Requirement already satisfied: tensorboard-plugin-wit>=1.6.0 in /usr/local/lib/python3.7/dist-packages (from tensorboard) (1.8.0)\n",
            "Requirement already satisfied: numpy>=1.12.0 in /usr/local/lib/python3.7/dist-packages (from tensorboard) (1.19.5)\n",
            "Requirement already satisfied: tensorboard-data-server<0.7.0,>=0.6.0 in /usr/local/lib/python3.7/dist-packages (from tensorboard) (0.6.1)\n",
            "Requirement already satisfied: google-auth<2,>=1.6.3 in /usr/local/lib/python3.7/dist-packages (from tensorboard) (1.30.0)\n",
            "Requirement already satisfied: werkzeug>=0.11.15 in /usr/local/lib/python3.7/dist-packages (from tensorboard) (1.0.1)\n",
            "Requirement already satisfied: wheel>=0.26; python_version >= \"3\" in /usr/local/lib/python3.7/dist-packages (from tensorboard) (0.36.2)\n",
            "Requirement already satisfied: importlib-metadata; python_version < \"3.8\" in /usr/local/lib/python3.7/dist-packages (from markdown>=2.6.8->tensorboard) (4.0.1)\n",
            "Requirement already satisfied: requests-oauthlib>=0.7.0 in /usr/local/lib/python3.7/dist-packages (from google-auth-oauthlib<0.5,>=0.4.1->tensorboard) (1.3.0)\n",
            "Requirement already satisfied: six>=1.9 in /usr/local/lib/python3.7/dist-packages (from protobuf>=3.6.0->tensorboard) (1.15.0)\n",
            "Requirement already satisfied: certifi>=2017.4.17 in /usr/local/lib/python3.7/dist-packages (from requests<3,>=2.21.0->tensorboard) (2020.12.5)\n",
            "Requirement already satisfied: chardet<4,>=3.0.2 in /usr/local/lib/python3.7/dist-packages (from requests<3,>=2.21.0->tensorboard) (3.0.4)\n",
            "Requirement already satisfied: urllib3!=1.25.0,!=1.25.1,<1.26,>=1.21.1 in /usr/local/lib/python3.7/dist-packages (from requests<3,>=2.21.0->tensorboard) (1.24.3)\n",
            "Requirement already satisfied: idna<3,>=2.5 in /usr/local/lib/python3.7/dist-packages (from requests<3,>=2.21.0->tensorboard) (2.10)\n",
            "Requirement already satisfied: pyasn1-modules>=0.2.1 in /usr/local/lib/python3.7/dist-packages (from google-auth<2,>=1.6.3->tensorboard) (0.2.8)\n",
            "Requirement already satisfied: cachetools<5.0,>=2.0.0 in /usr/local/lib/python3.7/dist-packages (from google-auth<2,>=1.6.3->tensorboard) (4.2.2)\n",
            "Requirement already satisfied: rsa<5,>=3.1.4; python_version >= \"3.6\" in /usr/local/lib/python3.7/dist-packages (from google-auth<2,>=1.6.3->tensorboard) (4.7.2)\n",
            "Requirement already satisfied: zipp>=0.5 in /usr/local/lib/python3.7/dist-packages (from importlib-metadata; python_version < \"3.8\"->markdown>=2.6.8->tensorboard) (3.4.1)\n",
            "Requirement already satisfied: typing-extensions>=3.6.4; python_version < \"3.8\" in /usr/local/lib/python3.7/dist-packages (from importlib-metadata; python_version < \"3.8\"->markdown>=2.6.8->tensorboard) (3.7.4.3)\n",
            "Requirement already satisfied: oauthlib>=3.0.0 in /usr/local/lib/python3.7/dist-packages (from requests-oauthlib>=0.7.0->google-auth-oauthlib<0.5,>=0.4.1->tensorboard) (3.1.0)\n",
            "Requirement already satisfied: pyasn1<0.5.0,>=0.4.6 in /usr/local/lib/python3.7/dist-packages (from pyasn1-modules>=0.2.1->google-auth<2,>=1.6.3->tensorboard) (0.4.8)\n",
            "Requirement already satisfied: split-folders in /usr/local/lib/python3.7/dist-packages (0.4.3)\n",
            "Requirement already satisfied: tqdm in /usr/local/lib/python3.7/dist-packages (4.41.1)\n",
            "2.5.0\n"
          ],
          "name": "stdout"
        }
      ]
    },
    {
      "cell_type": "code",
      "metadata": {
        "colab": {
          "base_uri": "https://localhost:8080/"
        },
        "id": "SoZJF3BKPwmh",
        "outputId": "17e28ae8-7b83-47c7-9430-08f7b9dbb27a"
      },
      "source": [
        "# connect file to google drive\n",
        "\n",
        "drive.mount('/content/drive')"
      ],
      "execution_count": 4,
      "outputs": [
        {
          "output_type": "stream",
          "text": [
            "Mounted at /content/drive\n"
          ],
          "name": "stdout"
        }
      ]
    },
    {
      "cell_type": "code",
      "metadata": {
        "colab": {
          "base_uri": "https://localhost:8080/"
        },
        "id": "geu4HOsLYNlk",
        "outputId": "1c69f3e9-c624-47b8-e467-069ff85c3670"
      },
      "source": [
        "cd /content/drive/MyDrive/2D Geometry Images"
      ],
      "execution_count": 5,
      "outputs": [
        {
          "output_type": "stream",
          "text": [
            "/content/drive/MyDrive/2D Geometry Images\n"
          ],
          "name": "stdout"
        }
      ]
    },
    {
      "cell_type": "code",
      "metadata": {
        "colab": {
          "base_uri": "https://localhost:8080/"
        },
        "id": "Ejzv8eEvYcjx",
        "outputId": "8ffb4c76-9598-4513-c2da-b11b28a7e829"
      },
      "source": [
        "# Check the folder\n",
        "%ls"
      ],
      "execution_count": 6,
      "outputs": [
        {
          "output_type": "stream",
          "text": [
            " \u001b[0m\u001b[01;34mCircle\u001b[0m/\n",
            "'Circle_000dfc5c-2a92-11ea-8123-8363a7ec19e6 (1).png'\n",
            "'Circle_000dfc5c-2a92-11ea-8123-8363a7ec19e6 (2).png'\n",
            "'Circle_000dfc5c-2a92-11ea-8123-8363a7ec19e6 (3).png'\n",
            " Circle_000dfc5c-2a92-11ea-8123-8363a7ec19e6.png\n",
            "'Circle_00a9ce32-2a8a-11ea-8123-8363a7ec19e6 (1).png'\n",
            " Circle_00a9ce32-2a8a-11ea-8123-8363a7ec19e6.png\n",
            " Circle_00ad989a-2a9a-11ea-8123-8363a7ec19e6.png\n",
            "'Circle_00d04b8c-2a91-11ea-8123-8363a7ec19e6 (1).png'\n",
            "'Circle_00d04b8c-2a91-11ea-8123-8363a7ec19e6 (2).png'\n",
            "'Circle_00d04b8c-2a91-11ea-8123-8363a7ec19e6 (3).png'\n",
            " Circle_00d04b8c-2a91-11ea-8123-8363a7ec19e6.png\n",
            " Circle_00f6e2b8-2a84-11ea-8123-8363a7ec19e6.png\n",
            "'Circle_0a7c44d0-2a99-11ea-8123-8363a7ec19e6 (1).png'\n",
            " Circle_0a7c44d0-2a99-11ea-8123-8363a7ec19e6.png\n",
            " Circle_0b5b771e-2a84-11ea-8123-8363a7ec19e6.png\n",
            " \u001b[01;34mHeptagon\u001b[0m/\n",
            " Heptagon_0ea1987c-2a8e-11ea-8123-8363a7ec19e6.png\n",
            " Heptagon_0edc7bd0-2a94-11ea-8123-8363a7ec19e6.png\n",
            "'Heptagon_0efb5022-2a90-11ea-8123-8363a7ec19e6 (1).png'\n",
            "'Heptagon_0efb5022-2a90-11ea-8123-8363a7ec19e6 (2).png'\n",
            " Heptagon_0efb5022-2a90-11ea-8123-8363a7ec19e6.png\n",
            "'Heptagon_0f2e6c8c-2a9a-11ea-8123-8363a7ec19e6 (1).png'\n",
            "'Heptagon_0f2e6c8c-2a9a-11ea-8123-8363a7ec19e6 (2).png'\n",
            " Heptagon_0f2e6c8c-2a9a-11ea-8123-8363a7ec19e6.png\n",
            " Heptagon_0f3a779a-2a8e-11ea-8123-8363a7ec19e6.png\n",
            " \u001b[01;34mTriangle\u001b[0m/\n",
            " Triangle_10d8cc06-2a92-11ea-8123-8363a7ec19e6.png\n",
            " Triangle_11e6a11c-2a93-11ea-8123-8363a7ec19e6.png\n"
          ],
          "name": "stdout"
        }
      ]
    },
    {
      "cell_type": "code",
      "metadata": {
        "colab": {
          "base_uri": "https://localhost:8080/"
        },
        "id": "HxaNH9gCZObf",
        "outputId": "72dd7b59-0e17-4e50-95ec-d995a2a79330"
      },
      "source": [
        "# Count the number of classes\n",
        "dir_Circle = os.path.join('/content/drive/MyDrive/2D Geometry Images/Circle')                          # Definition of directory from Circle\n",
        "dir_Heptagon = os.path.join('/content/drive/MyDrive/2D Geometry Images/Heptagon')                        # Definition of directory from Heptagon\n",
        "dir_Triangle = os.path.join('/content/drive/MyDrive/2D Geometry Images/Triangle')                  # Definition of directory from Triangle\n",
        "\n",
        "print('Training Circle :', len(os.listdir(dir_Circle)))                             # JUMLAH DATASET BERLABEL ROCK\n",
        "print('Training Heptagon :', len(os.listdir(dir_Heptagon)))                           # JUMLAH DATASET BERLABEL Heptagon\n",
        "print('Training Triangle :', len(os.listdir(dir_Triangle)))                     # JUMLAH DATASET BERLABEL Triangle"
      ],
      "execution_count": 7,
      "outputs": [
        {
          "output_type": "stream",
          "text": [
            "Training Circle : 15\n",
            "Training Heptagon : 15\n",
            "Training Triangle : 15\n"
          ],
          "name": "stdout"
        }
      ]
    },
    {
      "cell_type": "markdown",
      "metadata": {
        "id": "qDTCTSSzcrzJ"
      },
      "source": [
        "**AUGMENTASI DATA**"
      ]
    },
    {
      "cell_type": "code",
      "metadata": {
        "colab": {
          "base_uri": "https://localhost:8080/"
        },
        "id": "fF7QmWLwnZMn",
        "outputId": "94ae5135-a463-4491-8adf-364594c6eba8"
      },
      "source": [
        "#buat direktori train dan val dengan library split_folders \n",
        "splitfolders.ratio('/content/drive/MyDrive/2D Geometry Images', output=\"/content/drive/MyDrive/2D Geometry Images\", seed=1337, ratio=(.8, .2)) # default values\n",
        "\n",
        "base_dir = '/content/drive/MyDrive/2D Geometry Images'\n",
        "training_dir = os.path.join(base_dir, 'train')\n",
        "validation_dir = os.path.join(base_dir, 'val')\n",
        "\n",
        "os.listdir('/content/drive/MyDrive/2D Geometry Images/train')\n",
        "os.listdir('/content/drive/MyDrive/2D Geometry Images/val')"
      ],
      "execution_count": 8,
      "outputs": [
        {
          "output_type": "stream",
          "text": [
            "Copying files: 45 files [00:15,  2.96 files/s]\n"
          ],
          "name": "stderr"
        },
        {
          "output_type": "execute_result",
          "data": {
            "text/plain": [
              "['Triangle', 'Heptagon', 'Circle']"
            ]
          },
          "metadata": {
            "tags": []
          },
          "execution_count": 8
        }
      ]
    },
    {
      "cell_type": "code",
      "metadata": {
        "id": "lDEeVNDGcz-E"
      },
      "source": [
        "# direktori data training\n",
        "train_Circle_dir = os.path.join(training_dir, 'Circle')\n",
        "train_Heptagon_dir = os.path.join(training_dir, 'Heptagon')\n",
        "train_Triangle_dir = os.path.join(training_dir, 'Triangle')\n",
        "\n",
        "# direktori data validasi\n",
        "validation_Circle_dir = os.path.join(validation_dir, 'Circle')\n",
        "validation_Heptagon_dir = os.path.join(validation_dir, 'Heptagon')\n",
        "validation_Triangle_dir = os.path.join(validation_dir, 'Triangle')"
      ],
      "execution_count": 9,
      "outputs": []
    },
    {
      "cell_type": "code",
      "metadata": {
        "id": "6kShYOyQ_a8s"
      },
      "source": [
        "# Membuat image data generator\n",
        "\n",
        "train_datagen = ImageDataGenerator(\n",
        "    rescale=1./255,\n",
        "    shear_range=0.2,\n",
        "    zoom_range=0.2,\n",
        "    rotation_range=20,\n",
        "    width_shift_range=0.2,\n",
        "    height_shift_range=0.2,\n",
        "    horizontal_flip=True)\n",
        "\n",
        "test_datagen = ImageDataGenerator(rescale=1./255)"
      ],
      "execution_count": 10,
      "outputs": []
    },
    {
      "cell_type": "code",
      "metadata": {
        "colab": {
          "base_uri": "https://localhost:8080/"
        },
        "id": "ZaIbR9nxc8B7",
        "outputId": "171aeba0-c59a-42cf-a98c-6bd57381f6fb"
      },
      "source": [
        "batch = 3\n",
        "\n",
        "training_generator = train_datagen.flow_from_directory(\n",
        "  training_dir,\n",
        "  target_size=(150,150),\n",
        "  batch_size=batch,\n",
        "  class_mode='categorical',\n",
        "  shuffle=True\n",
        ")\n",
        "\n",
        "validation_generator = test_datagen.flow_from_directory(\n",
        "  validation_dir,\n",
        "  target_size=(150,150),\n",
        "  batch_size=batch,\n",
        "  class_mode='categorical',\n",
        "  shuffle=True\n",
        ")\n",
        "\n",
        "print(validation_generator.class_indices)"
      ],
      "execution_count": 11,
      "outputs": [
        {
          "output_type": "stream",
          "text": [
            "Found 36 images belonging to 3 classes.\n",
            "Found 9 images belonging to 3 classes.\n",
            "{'Circle': 0, 'Heptagon': 1, 'Triangle': 2}\n"
          ],
          "name": "stdout"
        }
      ]
    },
    {
      "cell_type": "code",
      "metadata": {
        "colab": {
          "base_uri": "https://localhost:8080/"
        },
        "id": "Q0EgSvMioSto",
        "outputId": "464974db-1d6d-48f1-8cba-47d02079dcd9"
      },
      "source": [
        "# Model neural network\n",
        "model = tf.keras.models.Sequential()\n",
        "model.add(Conv2D(16, (3,3), activation='relu', input_shape=(150, 150, 3)))\n",
        "model.add(MaxPooling2D(2, 2))\n",
        "model.add(Conv2D(32, (3,3), activation='relu'))\n",
        "model.add(MaxPooling2D(2, 2))\n",
        "model.add(Conv2D(64, (3,3), activation='relu'))\n",
        "model.add(MaxPooling2D(2, 2))\n",
        "model.add(Conv2D(128, (3,3), activation='relu'))\n",
        "model.add(MaxPooling2D(2, 2))\n",
        "model.add(Conv2D(256, (3,3), activation='relu'))\n",
        "model.add(MaxPooling2D(2, 2))\n",
        "model.add(Flatten())\n",
        "model.add(Dense(512, activation='relu'))\n",
        "model.add(Dropout(0.25))\n",
        "model.add(Dense(3, activation='softmax'))\n",
        "\n",
        "model.compile(\n",
        "    loss='categorical_crossentropy',\n",
        "    optimizer=tf.optimizers.RMSprop(),\n",
        "    metrics=['accuracy'])\n",
        "\n",
        "model.summary()"
      ],
      "execution_count": 12,
      "outputs": [
        {
          "output_type": "stream",
          "text": [
            "Model: \"sequential\"\n",
            "_________________________________________________________________\n",
            "Layer (type)                 Output Shape              Param #   \n",
            "=================================================================\n",
            "conv2d (Conv2D)              (None, 148, 148, 16)      448       \n",
            "_________________________________________________________________\n",
            "max_pooling2d (MaxPooling2D) (None, 74, 74, 16)        0         \n",
            "_________________________________________________________________\n",
            "conv2d_1 (Conv2D)            (None, 72, 72, 32)        4640      \n",
            "_________________________________________________________________\n",
            "max_pooling2d_1 (MaxPooling2 (None, 36, 36, 32)        0         \n",
            "_________________________________________________________________\n",
            "conv2d_2 (Conv2D)            (None, 34, 34, 64)        18496     \n",
            "_________________________________________________________________\n",
            "max_pooling2d_2 (MaxPooling2 (None, 17, 17, 64)        0         \n",
            "_________________________________________________________________\n",
            "conv2d_3 (Conv2D)            (None, 15, 15, 128)       73856     \n",
            "_________________________________________________________________\n",
            "max_pooling2d_3 (MaxPooling2 (None, 7, 7, 128)         0         \n",
            "_________________________________________________________________\n",
            "conv2d_4 (Conv2D)            (None, 5, 5, 256)         295168    \n",
            "_________________________________________________________________\n",
            "max_pooling2d_4 (MaxPooling2 (None, 2, 2, 256)         0         \n",
            "_________________________________________________________________\n",
            "flatten (Flatten)            (None, 1024)              0         \n",
            "_________________________________________________________________\n",
            "dense (Dense)                (None, 512)               524800    \n",
            "_________________________________________________________________\n",
            "dropout (Dropout)            (None, 512)               0         \n",
            "_________________________________________________________________\n",
            "dense_1 (Dense)              (None, 3)                 1539      \n",
            "=================================================================\n",
            "Total params: 918,947\n",
            "Trainable params: 918,947\n",
            "Non-trainable params: 0\n",
            "_________________________________________________________________\n"
          ],
          "name": "stdout"
        }
      ]
    },
    {
      "cell_type": "code",
      "metadata": {
        "colab": {
          "base_uri": "https://localhost:8080/"
        },
        "id": "u-Tg-fOu8tc7",
        "outputId": "59b035fc-6d63-49ab-a4bb-0a4c1d052c12"
      },
      "source": [
        "tensorboard_callback = tf.keras.callbacks.TensorBoard()\n",
        "model.fit(training_generator,\n",
        "          steps_per_epoch = len(training_generator)//batch,\n",
        "          epochs = 50,\n",
        "          validation_data = validation_generator,\n",
        "          validation_steps = len(validation_generator)//batch,\n",
        "          verbose = 1, \n",
        "          callbacks = [tensorboard_callback]\n",
        "          )"
      ],
      "execution_count": 24,
      "outputs": [
        {
          "output_type": "stream",
          "text": [
            "Epoch 1/50\n",
            "4/4 [==============================] - 1s 208ms/step - loss: 0.6859 - accuracy: 0.7500 - val_loss: 6.1017 - val_accuracy: 0.0000e+00\n",
            "Epoch 2/50\n",
            "4/4 [==============================] - 1s 133ms/step - loss: 0.1750 - accuracy: 1.0000 - val_loss: 0.6809 - val_accuracy: 0.6667\n",
            "Epoch 3/50\n",
            "4/4 [==============================] - 1s 151ms/step - loss: 0.8881 - accuracy: 0.6667 - val_loss: 4.5930 - val_accuracy: 0.0000e+00\n",
            "Epoch 4/50\n",
            "4/4 [==============================] - 1s 152ms/step - loss: 0.7545 - accuracy: 0.7500 - val_loss: 5.8079 - val_accuracy: 0.3333\n",
            "Epoch 5/50\n",
            "4/4 [==============================] - 1s 148ms/step - loss: 0.5932 - accuracy: 0.8333 - val_loss: 8.3147 - val_accuracy: 0.3333\n",
            "Epoch 6/50\n",
            "4/4 [==============================] - 1s 154ms/step - loss: 0.2915 - accuracy: 1.0000 - val_loss: 0.6123 - val_accuracy: 0.6667\n",
            "Epoch 7/50\n",
            "4/4 [==============================] - 1s 154ms/step - loss: 0.5848 - accuracy: 0.7500 - val_loss: 2.5232 - val_accuracy: 0.3333\n",
            "Epoch 8/50\n",
            "4/4 [==============================] - 1s 148ms/step - loss: 0.3269 - accuracy: 0.9167 - val_loss: 8.6295 - val_accuracy: 0.0000e+00\n",
            "Epoch 9/50\n",
            "4/4 [==============================] - 1s 151ms/step - loss: 0.0234 - accuracy: 1.0000 - val_loss: 6.2872 - val_accuracy: 0.3333\n",
            "Epoch 10/50\n",
            "4/4 [==============================] - 1s 151ms/step - loss: 0.5647 - accuracy: 0.7500 - val_loss: 7.5192 - val_accuracy: 0.6667\n",
            "Epoch 11/50\n",
            "4/4 [==============================] - 1s 141ms/step - loss: 0.6296 - accuracy: 0.8333 - val_loss: 9.5561 - val_accuracy: 0.0000e+00\n",
            "Epoch 12/50\n",
            "4/4 [==============================] - 1s 134ms/step - loss: 0.3619 - accuracy: 0.7500 - val_loss: 16.6578 - val_accuracy: 0.0000e+00\n",
            "Epoch 13/50\n",
            "4/4 [==============================] - 1s 136ms/step - loss: 0.7010 - accuracy: 0.7500 - val_loss: 7.1936 - val_accuracy: 0.6667\n",
            "Epoch 14/50\n",
            "4/4 [==============================] - 1s 150ms/step - loss: 0.2355 - accuracy: 0.9167 - val_loss: 11.3401 - val_accuracy: 0.3333\n",
            "Epoch 15/50\n",
            "4/4 [==============================] - 1s 149ms/step - loss: 1.0197 - accuracy: 0.4167 - val_loss: 1.7189 - val_accuracy: 0.3333\n",
            "Epoch 16/50\n",
            "4/4 [==============================] - 1s 150ms/step - loss: 1.0253 - accuracy: 0.7500 - val_loss: 11.1029 - val_accuracy: 0.3333\n",
            "Epoch 17/50\n",
            "4/4 [==============================] - 1s 152ms/step - loss: 0.9195 - accuracy: 0.8333 - val_loss: 6.0433 - val_accuracy: 0.3333\n",
            "Epoch 18/50\n",
            "4/4 [==============================] - 1s 132ms/step - loss: 0.5434 - accuracy: 0.5000 - val_loss: 1.7660 - val_accuracy: 0.3333\n",
            "Epoch 19/50\n",
            "4/4 [==============================] - 1s 127ms/step - loss: 0.3122 - accuracy: 0.7500 - val_loss: 6.4681 - val_accuracy: 0.3333\n",
            "Epoch 20/50\n",
            "4/4 [==============================] - 1s 146ms/step - loss: 0.9413 - accuracy: 0.8333 - val_loss: 0.4867 - val_accuracy: 0.6667\n",
            "Epoch 21/50\n",
            "4/4 [==============================] - 1s 145ms/step - loss: 0.6773 - accuracy: 0.8333 - val_loss: 1.9360 - val_accuracy: 0.3333\n",
            "Epoch 22/50\n",
            "4/4 [==============================] - 1s 132ms/step - loss: 0.6839 - accuracy: 0.4167 - val_loss: 6.3566 - val_accuracy: 0.3333\n",
            "Epoch 23/50\n",
            "4/4 [==============================] - 1s 136ms/step - loss: 0.3961 - accuracy: 1.0000 - val_loss: 4.0195 - val_accuracy: 0.0000e+00\n",
            "Epoch 24/50\n",
            "4/4 [==============================] - 1s 129ms/step - loss: 0.1952 - accuracy: 0.9167 - val_loss: 15.4635 - val_accuracy: 0.0000e+00\n",
            "Epoch 25/50\n",
            "4/4 [==============================] - 1s 137ms/step - loss: 1.2242 - accuracy: 0.6667 - val_loss: 6.0080 - val_accuracy: 0.0000e+00\n",
            "Epoch 26/50\n",
            "4/4 [==============================] - 1s 156ms/step - loss: 1.1690 - accuracy: 0.4167 - val_loss: 12.0574 - val_accuracy: 0.3333\n",
            "Epoch 27/50\n",
            "4/4 [==============================] - 1s 148ms/step - loss: 0.6661 - accuracy: 0.5833 - val_loss: 0.9964 - val_accuracy: 0.3333\n",
            "Epoch 28/50\n",
            "4/4 [==============================] - 1s 150ms/step - loss: 0.4210 - accuracy: 0.7500 - val_loss: 7.4564 - val_accuracy: 0.3333\n",
            "Epoch 29/50\n",
            "4/4 [==============================] - 1s 147ms/step - loss: 0.3653 - accuracy: 0.9167 - val_loss: 9.2471 - val_accuracy: 0.3333\n",
            "Epoch 30/50\n",
            "4/4 [==============================] - 1s 147ms/step - loss: 0.3621 - accuracy: 0.8333 - val_loss: 17.0273 - val_accuracy: 0.0000e+00\n",
            "Epoch 31/50\n",
            "4/4 [==============================] - 1s 134ms/step - loss: 0.7675 - accuracy: 0.5000 - val_loss: 4.2078 - val_accuracy: 0.6667\n",
            "Epoch 32/50\n",
            "4/4 [==============================] - 1s 138ms/step - loss: 0.4835 - accuracy: 0.6667 - val_loss: 0.5523 - val_accuracy: 0.6667\n",
            "Epoch 33/50\n",
            "4/4 [==============================] - 1s 152ms/step - loss: 0.2954 - accuracy: 0.8333 - val_loss: 5.2138 - val_accuracy: 0.0000e+00\n",
            "Epoch 34/50\n",
            "4/4 [==============================] - 1s 142ms/step - loss: 0.5225 - accuracy: 0.6667 - val_loss: 1.6691 - val_accuracy: 0.3333\n",
            "Epoch 35/50\n",
            "4/4 [==============================] - 1s 147ms/step - loss: 0.5729 - accuracy: 0.8333 - val_loss: 10.3504 - val_accuracy: 0.3333\n",
            "Epoch 36/50\n",
            "4/4 [==============================] - 1s 141ms/step - loss: 1.0985 - accuracy: 0.5833 - val_loss: 1.0663 - val_accuracy: 0.6667\n",
            "Epoch 37/50\n",
            "4/4 [==============================] - 1s 144ms/step - loss: 0.5621 - accuracy: 0.7500 - val_loss: 8.9177 - val_accuracy: 0.3333\n",
            "Epoch 38/50\n",
            "4/4 [==============================] - 1s 144ms/step - loss: 0.6480 - accuracy: 0.5000 - val_loss: 1.0507 - val_accuracy: 0.3333\n",
            "Epoch 39/50\n",
            "4/4 [==============================] - 1s 133ms/step - loss: 0.5200 - accuracy: 0.7500 - val_loss: 2.3765 - val_accuracy: 0.3333\n",
            "Epoch 40/50\n",
            "4/4 [==============================] - 1s 137ms/step - loss: 0.1957 - accuracy: 0.8333 - val_loss: 3.2398 - val_accuracy: 0.3333\n",
            "Epoch 41/50\n",
            "4/4 [==============================] - 1s 139ms/step - loss: 0.2929 - accuracy: 0.7500 - val_loss: 5.8360 - val_accuracy: 0.3333\n",
            "Epoch 42/50\n",
            "4/4 [==============================] - 1s 132ms/step - loss: 0.4728 - accuracy: 0.7500 - val_loss: 15.3742 - val_accuracy: 0.3333\n",
            "Epoch 43/50\n",
            "4/4 [==============================] - 1s 139ms/step - loss: 1.1602 - accuracy: 0.7500 - val_loss: 7.8890 - val_accuracy: 0.0000e+00\n",
            "Epoch 44/50\n",
            "4/4 [==============================] - 1s 133ms/step - loss: 0.5757 - accuracy: 0.7500 - val_loss: 5.3719 - val_accuracy: 0.3333\n",
            "Epoch 45/50\n",
            "4/4 [==============================] - 1s 134ms/step - loss: 0.3451 - accuracy: 0.9167 - val_loss: 4.9245 - val_accuracy: 0.0000e+00\n",
            "Epoch 46/50\n",
            "4/4 [==============================] - 1s 131ms/step - loss: 0.6990 - accuracy: 0.5833 - val_loss: 2.1795 - val_accuracy: 0.3333\n",
            "Epoch 47/50\n",
            "4/4 [==============================] - 1s 138ms/step - loss: 0.4955 - accuracy: 0.6667 - val_loss: 10.1855 - val_accuracy: 0.0000e+00\n",
            "Epoch 48/50\n",
            "4/4 [==============================] - 1s 142ms/step - loss: 0.1733 - accuracy: 0.9167 - val_loss: 8.0505 - val_accuracy: 0.3333\n",
            "Epoch 49/50\n",
            "4/4 [==============================] - 1s 138ms/step - loss: 0.4236 - accuracy: 0.6667 - val_loss: 5.0007 - val_accuracy: 0.3333\n",
            "Epoch 50/50\n",
            "4/4 [==============================] - 1s 142ms/step - loss: 0.6071 - accuracy: 0.8333 - val_loss: 2.5846 - val_accuracy: 0.6667\n"
          ],
          "name": "stdout"
        },
        {
          "output_type": "execute_result",
          "data": {
            "text/plain": [
              "<tensorflow.python.keras.callbacks.History at 0x7fad4da00cd0>"
            ]
          },
          "metadata": {
            "tags": []
          },
          "execution_count": 24
        }
      ]
    },
    {
      "cell_type": "code",
      "metadata": {
        "id": "gwIhpHHhHUXO"
      },
      "source": [
        "# img = image.load_img('hept.png', target_size=(150,150))\n",
        "# imgplot = plt.imshow(img)"
      ],
      "execution_count": null,
      "outputs": []
    },
    {
      "cell_type": "code",
      "metadata": {
        "id": "r1yJD1NEKNOY"
      },
      "source": [
        "# x = image.img_to_array(img)\n",
        "# x = np.expand_dims(x, axis=0)\n",
        "# images = np.vstack([x])\n",
        "# classes = model.predict(images, batch_size=3)\n",
        "# classes.all()"
      ],
      "execution_count": null,
      "outputs": []
    },
    {
      "cell_type": "code",
      "metadata": {
        "id": "H844FtYMKQTD"
      },
      "source": [
        "# y = model.predict(images, batch_size=3)\n",
        "# print(y)\n",
        "# print(np.argmax(y), np.max(y) )"
      ],
      "execution_count": null,
      "outputs": []
    },
    {
      "cell_type": "code",
      "metadata": {
        "colab": {
          "resources": {
            "http://localhost:8080/nbextensions/google.colab/files.js": {
              "data": "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",
              "ok": true,
              "headers": [
                [
                  "content-type",
                  "application/javascript"
                ]
              ],
              "status": 200,
              "status_text": ""
            }
          },
          "base_uri": "https://localhost:8080/",
          "height": 341
        },
        "id": "qkNN7ptzdGVY",
        "outputId": "f6e31421-a05e-4e4b-e806-8682c15efb10"
      },
      "source": [
        "%matplotlib inline\n",
        "\n",
        "uploaded = files.upload()\n",
        "for fn in uploaded.keys():\n",
        "  path = fn\n",
        "  img = image.load_img(path, target_size=(150,150))\n",
        "  imgplot = plt.imshow(img)\n",
        "  x = image.img_to_array(img)\n",
        "  x = np.expand_dims(x, axis=0)\n",
        "  images = np.vstack([x])\n",
        "  classes = model.predict(images, batch_size=9)\n",
        "  res = np.argmax(classes)\n",
        "\n",
        "  if res == 0:\n",
        "    print('Gambar ini berbentuk Circle')\n",
        "  elif res ==1:\n",
        "    print('Gambar ini berbentuk Heptagon')\n",
        "  elif res ==2:\n",
        "    print('Gambar ini berbentuk Triangle')\n",
        "  #print(fn)"
      ],
      "execution_count": 27,
      "outputs": [
        {
          "output_type": "display_data",
          "data": {
            "text/html": [
              "\n",
              "     <input type=\"file\" id=\"files-0514d8f4-053e-46e2-92a5-3af6184082bf\" name=\"files[]\" multiple disabled\n",
              "        style=\"border:none\" />\n",
              "     <output id=\"result-0514d8f4-053e-46e2-92a5-3af6184082bf\">\n",
              "      Upload widget is only available when the cell has been executed in the\n",
              "      current browser session. Please rerun this cell to enable.\n",
              "      </output>\n",
              "      <script src=\"/nbextensions/google.colab/files.js\"></script> "
            ],
            "text/plain": [
              "<IPython.core.display.HTML object>"
            ]
          },
          "metadata": {
            "tags": []
          }
        },
        {
          "output_type": "stream",
          "text": [
            "Saving Heptagon_0f2e5462-2a87-11ea-8123-8363a7ec19e6.png to Heptagon_0f2e5462-2a87-11ea-8123-8363a7ec19e6.png\n",
            "Gambar ini berbentuk Heptagon\n"
          ],
          "name": "stdout"
        },
        {
          "output_type": "display_data",
          "data": {
            "image/png": "[encoded data removed]",
            "text/plain": [
              "<Figure size 432x288 with 1 Axes>"
            ]
          },
          "metadata": {
            "tags": [],
            "needs_background": "light"
          }
        }
      ]
    }
  ]
}