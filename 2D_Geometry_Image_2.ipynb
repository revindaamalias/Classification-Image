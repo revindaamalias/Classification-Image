{
  "nbformat": 4,
  "nbformat_minor": 0,
  "metadata": {
    "colab": {
      "name": "2D_Geometry_Image_2.ipynb",
      "provenance": [],
      "collapsed_sections": [],
      "include_colab_link": true
    },
    "kernelspec": {
      "display_name": "Python 3",
      "name": "python3"
    },
    "language_info": {
      "name": "python"
    }
  },
  "cells": [
    {
      "cell_type": "markdown",
      "metadata": {
        "id": "view-in-github",
        "colab_type": "text"
      },
      "source": [
        "<a href=\"https://colab.research.google.com/github/revindaamalias/Classification-Image/blob/main/2D_Geometry_Image_2.ipynb\" target=\"_parent\"><img src=\"https://colab.research.google.com/assets/colab-badge.svg\" alt=\"Open In Colab\"/></a>"
      ]
    },
    {
      "cell_type": "code",
      "metadata": {
        "id": "Zybh80czZnWP"
      },
      "source": [
        "# import library\n",
        "import os\n",
        "import numpy as np\n",
        "import matplotlib.pyplot as plt\n",
        "import matplotlib.image as mpimg\n",
        "%matplotlib inline\n",
        "\n",
        "from google.colab import files, drive"
      ],
      "execution_count": 2,
      "outputs": []
    },
    {
      "cell_type": "code",
      "metadata": {
        "colab": {
          "base_uri": "https://localhost:8080/"
        },
        "id": "vABNVvDGVHd6",
        "outputId": "3501727f-8055-4150-bd4c-7f3a308314bb"
      },
      "source": [
        "# melakukan dataset split\n",
        "# untuk mengecek performa dan dataset dibagi menjadi dua yaitu training dan testing\n",
        "!pip install split-folders\n",
        "import splitfolders \n",
        "import shutil"
      ],
      "execution_count": 3,
      "outputs": [
        {
          "output_type": "stream",
          "text": [
            "Collecting split-folders\n",
            "  Downloading https://files.pythonhosted.org/packages/b8/5f/3c2b2f7ea5e047c8cdc3bb00ae582c5438fcdbbedcc23b3cc1c2c7aae642/split_folders-0.4.3-py3-none-any.whl\n",
            "Installing collected packages: split-folders\n",
            "Successfully installed split-folders-0.4.3\n"
          ],
          "name": "stdout"
        }
      ]
    },
    {
      "cell_type": "code",
      "metadata": {
        "colab": {
          "base_uri": "https://localhost:8080/"
        },
        "id": "S_9In_GKVMqS",
        "outputId": "20525c6d-11e6-4c39-d22d-80e481c872c5"
      },
      "source": [
        "# import library tensorflow\n",
        "!pip install tensorboard\n",
        "!pip install split-folders tqdm\n",
        "import splitfolders\n",
        "import tensorflow as tf\n",
        "from tensorflow.keras.optimizers import RMSprop, Adam\n",
        "from tensorflow.keras.models import Sequential\n",
        "from tensorflow.keras.layers import Dense, Conv2D, Flatten, Dropout, MaxPooling2D\n",
        "from tensorflow.keras.preprocessing.image import ImageDataGenerator\n",
        "from tensorflow.keras.applications import DenseNet121\n",
        "import zipfile,os\n",
        "import numpy as np\n",
        "from google.colab import files\n",
        "from keras.preprocessing import image\n",
        "import matplotlib.pyplot as plt\n",
        "import matplotlib.image as mpimg\n",
        "print(tf.__version__)"
      ],
      "execution_count": 4,
      "outputs": [
        {
          "output_type": "stream",
          "text": [
            "Requirement already satisfied: tensorboard in /usr/local/lib/python3.7/dist-packages (2.5.0)\n",
            "Requirement already satisfied: requests<3,>=2.21.0 in /usr/local/lib/python3.7/dist-packages (from tensorboard) (2.23.0)\n",
            "Requirement already satisfied: google-auth<2,>=1.6.3 in /usr/local/lib/python3.7/dist-packages (from tensorboard) (1.30.0)\n",
            "Requirement already satisfied: absl-py>=0.4 in /usr/local/lib/python3.7/dist-packages (from tensorboard) (0.12.0)\n",
            "Requirement already satisfied: tensorboard-plugin-wit>=1.6.0 in /usr/local/lib/python3.7/dist-packages (from tensorboard) (1.8.0)\n",
            "Requirement already satisfied: markdown>=2.6.8 in /usr/local/lib/python3.7/dist-packages (from tensorboard) (3.3.4)\n",
            "Requirement already satisfied: grpcio>=1.24.3 in /usr/local/lib/python3.7/dist-packages (from tensorboard) (1.34.1)\n",
            "Requirement already satisfied: google-auth-oauthlib<0.5,>=0.4.1 in /usr/local/lib/python3.7/dist-packages (from tensorboard) (0.4.4)\n",
            "Requirement already satisfied: tensorboard-data-server<0.7.0,>=0.6.0 in /usr/local/lib/python3.7/dist-packages (from tensorboard) (0.6.1)\n",
            "Requirement already satisfied: wheel>=0.26; python_version >= \"3\" in /usr/local/lib/python3.7/dist-packages (from tensorboard) (0.36.2)\n",
            "Requirement already satisfied: setuptools>=41.0.0 in /usr/local/lib/python3.7/dist-packages (from tensorboard) (57.0.0)\n",
            "Requirement already satisfied: werkzeug>=0.11.15 in /usr/local/lib/python3.7/dist-packages (from tensorboard) (1.0.1)\n",
            "Requirement already satisfied: numpy>=1.12.0 in /usr/local/lib/python3.7/dist-packages (from tensorboard) (1.19.5)\n",
            "Requirement already satisfied: protobuf>=3.6.0 in /usr/local/lib/python3.7/dist-packages (from tensorboard) (3.12.4)\n",
            "Requirement already satisfied: idna<3,>=2.5 in /usr/local/lib/python3.7/dist-packages (from requests<3,>=2.21.0->tensorboard) (2.10)\n",
            "Requirement already satisfied: chardet<4,>=3.0.2 in /usr/local/lib/python3.7/dist-packages (from requests<3,>=2.21.0->tensorboard) (3.0.4)\n",
            "Requirement already satisfied: urllib3!=1.25.0,!=1.25.1,<1.26,>=1.21.1 in /usr/local/lib/python3.7/dist-packages (from requests<3,>=2.21.0->tensorboard) (1.24.3)\n",
            "Requirement already satisfied: certifi>=2017.4.17 in /usr/local/lib/python3.7/dist-packages (from requests<3,>=2.21.0->tensorboard) (2020.12.5)\n",
            "Requirement already satisfied: rsa<5,>=3.1.4; python_version >= \"3.6\" in /usr/local/lib/python3.7/dist-packages (from google-auth<2,>=1.6.3->tensorboard) (4.7.2)\n",
            "Requirement already satisfied: pyasn1-modules>=0.2.1 in /usr/local/lib/python3.7/dist-packages (from google-auth<2,>=1.6.3->tensorboard) (0.2.8)\n",
            "Requirement already satisfied: cachetools<5.0,>=2.0.0 in /usr/local/lib/python3.7/dist-packages (from google-auth<2,>=1.6.3->tensorboard) (4.2.2)\n",
            "Requirement already satisfied: six>=1.9.0 in /usr/local/lib/python3.7/dist-packages (from google-auth<2,>=1.6.3->tensorboard) (1.15.0)\n",
            "Requirement already satisfied: importlib-metadata; python_version < \"3.8\" in /usr/local/lib/python3.7/dist-packages (from markdown>=2.6.8->tensorboard) (4.0.1)\n",
            "Requirement already satisfied: requests-oauthlib>=0.7.0 in /usr/local/lib/python3.7/dist-packages (from google-auth-oauthlib<0.5,>=0.4.1->tensorboard) (1.3.0)\n",
            "Requirement already satisfied: pyasn1>=0.1.3 in /usr/local/lib/python3.7/dist-packages (from rsa<5,>=3.1.4; python_version >= \"3.6\"->google-auth<2,>=1.6.3->tensorboard) (0.4.8)\n",
            "Requirement already satisfied: zipp>=0.5 in /usr/local/lib/python3.7/dist-packages (from importlib-metadata; python_version < \"3.8\"->markdown>=2.6.8->tensorboard) (3.4.1)\n",
            "Requirement already satisfied: typing-extensions>=3.6.4; python_version < \"3.8\" in /usr/local/lib/python3.7/dist-packages (from importlib-metadata; python_version < \"3.8\"->markdown>=2.6.8->tensorboard) (3.7.4.3)\n",
            "Requirement already satisfied: oauthlib>=3.0.0 in /usr/local/lib/python3.7/dist-packages (from requests-oauthlib>=0.7.0->google-auth-oauthlib<0.5,>=0.4.1->tensorboard) (3.1.0)\n",
            "Requirement already satisfied: split-folders in /usr/local/lib/python3.7/dist-packages (0.4.3)\n",
            "Requirement already satisfied: tqdm in /usr/local/lib/python3.7/dist-packages (4.41.1)\n",
            "2.5.0\n"
          ],
          "name": "stdout"
        }
      ]
    },
    {
      "cell_type": "code",
      "metadata": {
        "colab": {
          "base_uri": "https://localhost:8080/"
        },
        "id": "SoZJF3BKPwmh",
        "outputId": "7cdbd8aa-fd06-4bec-8169-d89a04dc9638"
      },
      "source": [
        "# connect file to google drive\n",
        "\n",
        "drive.mount('/content/drive')"
      ],
      "execution_count": 10,
      "outputs": [
        {
          "output_type": "stream",
          "text": [
            "Drive already mounted at /content/drive; to attempt to forcibly remount, call drive.mount(\"/content/drive\", force_remount=True).\n"
          ],
          "name": "stdout"
        }
      ]
    },
    {
      "cell_type": "code",
      "metadata": {
        "colab": {
          "base_uri": "https://localhost:8080/"
        },
        "id": "geu4HOsLYNlk",
        "outputId": "11afa4f1-d20a-4f54-a305-5465c4d13ccd"
      },
      "source": [
        "cd /content/drive/MyDrive/2D Geometry Images"
      ],
      "execution_count": 11,
      "outputs": [
        {
          "output_type": "stream",
          "text": [
            "/content/drive/MyDrive/2D Geometry Images\n"
          ],
          "name": "stdout"
        }
      ]
    },
    {
      "cell_type": "code",
      "metadata": {
        "colab": {
          "base_uri": "https://localhost:8080/"
        },
        "id": "Ejzv8eEvYcjx",
        "outputId": "cb9fe004-a716-481f-8086-80bab1aa1446"
      },
      "source": [
        "# Check the folder\n",
        "%ls"
      ],
      "execution_count": 12,
      "outputs": [
        {
          "output_type": "stream",
          "text": [
            " \u001b[0m\u001b[01;34mCircle\u001b[0m/\n",
            "'Circle_000dfc5c-2a92-11ea-8123-8363a7ec19e6 (1).png'\n",
            "'Circle_000dfc5c-2a92-11ea-8123-8363a7ec19e6 (2).png'\n",
            "'Circle_000dfc5c-2a92-11ea-8123-8363a7ec19e6 (3).png'\n",
            " Circle_000dfc5c-2a92-11ea-8123-8363a7ec19e6.png\n",
            "'Circle_00a9ce32-2a8a-11ea-8123-8363a7ec19e6 (1).png'\n",
            " Circle_00a9ce32-2a8a-11ea-8123-8363a7ec19e6.png\n",
            " Circle_00ad989a-2a9a-11ea-8123-8363a7ec19e6.png\n",
            "'Circle_00d04b8c-2a91-11ea-8123-8363a7ec19e6 (1).png'\n",
            "'Circle_00d04b8c-2a91-11ea-8123-8363a7ec19e6 (2).png'\n",
            "'Circle_00d04b8c-2a91-11ea-8123-8363a7ec19e6 (3).png'\n",
            "'Circle_00d04b8c-2a91-11ea-8123-8363a7ec19e6 (4).png'\n",
            " Circle_00d04b8c-2a91-11ea-8123-8363a7ec19e6.png\n",
            "'Circle_00f6e2b8-2a84-11ea-8123-8363a7ec19e6 (1).png'\n",
            " Circle_00f6e2b8-2a84-11ea-8123-8363a7ec19e6.png\n",
            "'Circle_0a7c44d0-2a99-11ea-8123-8363a7ec19e6 (1).png'\n",
            " Circle_0a7c44d0-2a99-11ea-8123-8363a7ec19e6.png\n",
            " Circle_0b20242a-2a89-11ea-8123-8363a7ec19e6.png\n",
            " Circle_0b5b771e-2a84-11ea-8123-8363a7ec19e6.png\n",
            " \u001b[01;34mHeptagon\u001b[0m/\n",
            " Heptagon_0ea1987c-2a8e-11ea-8123-8363a7ec19e6.png\n",
            " Heptagon_0edc7bd0-2a94-11ea-8123-8363a7ec19e6.png\n",
            "'Heptagon_0efb5022-2a90-11ea-8123-8363a7ec19e6 (1).png'\n",
            "'Heptagon_0efb5022-2a90-11ea-8123-8363a7ec19e6 (2).png'\n",
            " Heptagon_0efb5022-2a90-11ea-8123-8363a7ec19e6.png\n",
            " Heptagon_0f2e5462-2a87-11ea-8123-8363a7ec19e6.png\n",
            "'Heptagon_0f2e6c8c-2a9a-11ea-8123-8363a7ec19e6 (1).png'\n",
            "'Heptagon_0f2e6c8c-2a9a-11ea-8123-8363a7ec19e6 (2).png'\n",
            " Heptagon_0f2e6c8c-2a9a-11ea-8123-8363a7ec19e6.png\n",
            "'Heptagon_0f3a779a-2a8e-11ea-8123-8363a7ec19e6 (1).png'\n",
            " Heptagon_0f3a779a-2a8e-11ea-8123-8363a7ec19e6.png\n",
            " \u001b[01;34mTriangle\u001b[0m/\n",
            " Triangle_10d8cc06-2a92-11ea-8123-8363a7ec19e6.png\n",
            " Triangle_10dcd492-2a9a-11ea-8123-8363a7ec19e6.png\n",
            " Triangle_11e6a11c-2a93-11ea-8123-8363a7ec19e6.png\n",
            " Triangle_12a788ba-2a92-11ea-8123-8363a7ec19e6.png\n",
            " Triangle_9f144380-2a8b-11ea-8123-8363a7ec19e6.png\n",
            " Triangle_9f8f0194-2a8e-11ea-8123-8363a7ec19e6.png\n",
            " Triangle_9ffa67f4-2a93-11ea-8123-8363a7ec19e6.png\n"
          ],
          "name": "stdout"
        }
      ]
    },
    {
      "cell_type": "code",
      "metadata": {
        "colab": {
          "base_uri": "https://localhost:8080/"
        },
        "id": "HxaNH9gCZObf",
        "outputId": "e0ad2e06-c3ca-4846-95f4-f071ecdf9168"
      },
      "source": [
        "# Count the number of classes\n",
        "dir_Circle = os.path.join('/content/drive/MyDrive/2D Geometry Images/Circle')                          # Definition of directory from Circle\n",
        "dir_Heptagon = os.path.join('/content/drive/MyDrive/2D Geometry Images/Heptagon')                        # Definition of directory from Heptagon\n",
        "dir_Triangle = os.path.join('/content/drive/MyDrive/2D Geometry Images/Triangle')                  # Definition of directory from Triangle\n",
        "\n",
        "print('Training Circle :', len(os.listdir(dir_Circle)))                             # JUMLAH DATASET BERLABEL ROCK\n",
        "print('Training Heptagon :', len(os.listdir(dir_Heptagon)))                           # JUMLAH DATASET BERLABEL Heptagon\n",
        "print('Training Triangle :', len(os.listdir(dir_Triangle)))                     # JUMLAH DATASET BERLABEL Triangle"
      ],
      "execution_count": 13,
      "outputs": [
        {
          "output_type": "stream",
          "text": [
            "Training Circle : 15\n",
            "Training Heptagon : 15\n",
            "Training Triangle : 15\n"
          ],
          "name": "stdout"
        }
      ]
    },
    {
      "cell_type": "markdown",
      "metadata": {
        "id": "qDTCTSSzcrzJ"
      },
      "source": [
        "**AUGMENTASI DATA**"
      ]
    },
    {
      "cell_type": "code",
      "metadata": {
        "colab": {
          "base_uri": "https://localhost:8080/"
        },
        "id": "fF7QmWLwnZMn",
        "outputId": "71489e08-75c2-4774-df63-50f7e250a365"
      },
      "source": [
        "#buat direktori train dan val dengan library split_folders \n",
        "splitfolders.ratio('/content/drive/MyDrive/2D Geometry Images', output=\"/content/drive/MyDrive/2D Geometry Images\", seed=1337, ratio=(.8, .2)) # default values\n",
        "\n",
        "base_dir = '/content/drive/MyDrive/2D Geometry Images'\n",
        "training_dir = os.path.join(base_dir, 'train')\n",
        "validation_dir = os.path.join(base_dir, 'val')\n",
        "\n",
        "os.listdir('/content/drive/MyDrive/2D Geometry Images/train')\n",
        "os.listdir('/content/drive/MyDrive/2D Geometry Images/val')"
      ],
      "execution_count": 14,
      "outputs": [
        {
          "output_type": "stream",
          "text": [
            "Copying files: 45 files [00:23,  1.88 files/s]\n"
          ],
          "name": "stderr"
        },
        {
          "output_type": "execute_result",
          "data": {
            "text/plain": [
              "['Triangle', 'Heptagon', 'Circle']"
            ]
          },
          "metadata": {
            "tags": []
          },
          "execution_count": 14
        }
      ]
    },
    {
      "cell_type": "code",
      "metadata": {
        "id": "lDEeVNDGcz-E"
      },
      "source": [
        "# direktori data training\n",
        "train_Circle_dir = os.path.join(training_dir, 'Circle')\n",
        "train_Heptagon_dir = os.path.join(training_dir, 'Heptagon')\n",
        "train_Triangle_dir = os.path.join(training_dir, 'Triangle')\n",
        "\n",
        "# direktori data validasi\n",
        "validation_Circle_dir = os.path.join(validation_dir, 'Circle')\n",
        "validation_Heptagon_dir = os.path.join(validation_dir, 'Heptagon')\n",
        "validation_Triangle_dir = os.path.join(validation_dir, 'Triangle')"
      ],
      "execution_count": 15,
      "outputs": []
    },
    {
      "cell_type": "code",
      "metadata": {
        "id": "6kShYOyQ_a8s"
      },
      "source": [
        "# Membuat image data generator\n",
        "# augmentasi gambar untuk menciptakan data baru\n",
        "train_datagen = ImageDataGenerator(\n",
        "    rescale=1./255,\n",
        "    shear_range=0.2,\n",
        "    zoom_range=0.2,\n",
        "    rotation_range=20,\n",
        "    width_shift_range=0.2,\n",
        "    height_shift_range=0.2,\n",
        "    horizontal_flip=True)\n",
        "\n",
        "test_datagen = ImageDataGenerator(rescale=1./255)"
      ],
      "execution_count": 16,
      "outputs": []
    },
    {
      "cell_type": "code",
      "metadata": {
        "colab": {
          "base_uri": "https://localhost:8080/"
        },
        "id": "ZaIbR9nxc8B7",
        "outputId": "debcf417-6f8b-4292-966c-124fcbd3c32b"
      },
      "source": [
        "# image generator akan digunakan pada model train dan val\n",
        "batch = 3\n",
        "\n",
        "training_generator = train_datagen.flow_from_directory(\n",
        "  training_dir,\n",
        "  target_size=(150,150),\n",
        "  batch_size=batch,\n",
        "  class_mode='categorical',\n",
        "  shuffle=True\n",
        ")\n",
        "\n",
        "validation_generator = test_datagen.flow_from_directory(\n",
        "  validation_dir,\n",
        "  target_size=(150,150),\n",
        "  batch_size=batch,\n",
        "  class_mode='categorical',\n",
        "  shuffle=True\n",
        ")\n",
        "\n",
        "print(validation_generator.class_indices)"
      ],
      "execution_count": 17,
      "outputs": [
        {
          "output_type": "stream",
          "text": [
            "Found 36 images belonging to 3 classes.\n",
            "Found 9 images belonging to 3 classes.\n",
            "{'Circle': 0, 'Heptagon': 1, 'Triangle': 2}\n"
          ],
          "name": "stdout"
        }
      ]
    },
    {
      "cell_type": "code",
      "metadata": {
        "colab": {
          "base_uri": "https://localhost:8080/"
        },
        "id": "Q0EgSvMioSto",
        "outputId": "dddc952b-de8c-4d00-e315-887b168534c7"
      },
      "source": [
        "# Model neural network menggunakan CNN untuk pengambilan data image\n",
        "model = tf.keras.models.Sequential()\n",
        "model.add(Conv2D(16, (3,3), activation='relu', input_shape=(150, 150, 3)))\n",
        "model.add(MaxPooling2D(2, 2))\n",
        "model.add(Conv2D(32, (3,3), activation='relu'))\n",
        "model.add(MaxPooling2D(2, 2))\n",
        "model.add(Conv2D(64, (3,3), activation='relu'))\n",
        "model.add(MaxPooling2D(2, 2))\n",
        "model.add(Conv2D(128, (3,3), activation='relu'))\n",
        "model.add(MaxPooling2D(2, 2))\n",
        "model.add(Conv2D(256, (3,3), activation='relu'))\n",
        "model.add(MaxPooling2D(2, 2))\n",
        "model.add(Flatten())\n",
        "model.add(Dense(512, activation='relu'))\n",
        "model.add(Dropout(0.25))\n",
        "model.add(Dense(3, activation='softmax'))\n",
        "\n",
        "#compile model dengan 'RMSprop' optimizer loss function 'categorical_crossentropy' \n",
        "model.compile(\n",
        "    loss='categorical_crossentropy',\n",
        "    optimizer=tf.optimizers.RMSprop(),\n",
        "    metrics=['accuracy'])\n",
        "\n",
        "model.summary()"
      ],
      "execution_count": 18,
      "outputs": [
        {
          "output_type": "stream",
          "text": [
            "Model: \"sequential\"\n",
            "_________________________________________________________________\n",
            "Layer (type)                 Output Shape              Param #   \n",
            "=================================================================\n",
            "conv2d (Conv2D)              (None, 148, 148, 16)      448       \n",
            "_________________________________________________________________\n",
            "max_pooling2d (MaxPooling2D) (None, 74, 74, 16)        0         \n",
            "_________________________________________________________________\n",
            "conv2d_1 (Conv2D)            (None, 72, 72, 32)        4640      \n",
            "_________________________________________________________________\n",
            "max_pooling2d_1 (MaxPooling2 (None, 36, 36, 32)        0         \n",
            "_________________________________________________________________\n",
            "conv2d_2 (Conv2D)            (None, 34, 34, 64)        18496     \n",
            "_________________________________________________________________\n",
            "max_pooling2d_2 (MaxPooling2 (None, 17, 17, 64)        0         \n",
            "_________________________________________________________________\n",
            "conv2d_3 (Conv2D)            (None, 15, 15, 128)       73856     \n",
            "_________________________________________________________________\n",
            "max_pooling2d_3 (MaxPooling2 (None, 7, 7, 128)         0         \n",
            "_________________________________________________________________\n",
            "conv2d_4 (Conv2D)            (None, 5, 5, 256)         295168    \n",
            "_________________________________________________________________\n",
            "max_pooling2d_4 (MaxPooling2 (None, 2, 2, 256)         0         \n",
            "_________________________________________________________________\n",
            "flatten (Flatten)            (None, 1024)              0         \n",
            "_________________________________________________________________\n",
            "dense (Dense)                (None, 512)               524800    \n",
            "_________________________________________________________________\n",
            "dropout (Dropout)            (None, 512)               0         \n",
            "_________________________________________________________________\n",
            "dense_1 (Dense)              (None, 3)                 1539      \n",
            "=================================================================\n",
            "Total params: 918,947\n",
            "Trainable params: 918,947\n",
            "Non-trainable params: 0\n",
            "_________________________________________________________________\n"
          ],
          "name": "stdout"
        }
      ]
    },
    {
      "cell_type": "code",
      "metadata": {
        "colab": {
          "base_uri": "https://localhost:8080/"
        },
        "id": "u-Tg-fOu8tc7",
        "outputId": "9f9e450b-1aef-4a6e-d675-7a5f023a410d"
      },
      "source": [
        "tensorboard_callback = tf.keras.callbacks.TensorBoard()\n",
        "model.fit(training_generator,\n",
        "          steps_per_epoch = len(training_generator)//batch,\n",
        "          epochs = 50,\n",
        "          validation_data = validation_generator,\n",
        "          validation_steps = len(validation_generator)//batch,\n",
        "          verbose = 1, \n",
        "          callbacks = [tensorboard_callback]\n",
        "          )"
      ],
      "execution_count": 21,
      "outputs": [
        {
          "output_type": "stream",
          "text": [
            "Epoch 1/50\n",
            "4/4 [==============================] - 1s 165ms/step - loss: 0.7828 - accuracy: 0.5000 - val_loss: 0.7205 - val_accuracy: 0.3333\n",
            "Epoch 2/50\n",
            "4/4 [==============================] - 1s 131ms/step - loss: 1.1190 - accuracy: 0.4167 - val_loss: 1.2097 - val_accuracy: 0.0000e+00\n",
            "Epoch 3/50\n",
            "4/4 [==============================] - 1s 131ms/step - loss: 0.7795 - accuracy: 0.5833 - val_loss: 1.2042 - val_accuracy: 0.6667\n",
            "Epoch 4/50\n",
            "4/4 [==============================] - 1s 138ms/step - loss: 0.6740 - accuracy: 0.6667 - val_loss: 0.7349 - val_accuracy: 0.3333\n",
            "Epoch 5/50\n",
            "4/4 [==============================] - 1s 136ms/step - loss: 0.6173 - accuracy: 0.7500 - val_loss: 3.6754 - val_accuracy: 0.0000e+00\n",
            "Epoch 6/50\n",
            "4/4 [==============================] - 1s 136ms/step - loss: 0.9965 - accuracy: 0.5833 - val_loss: 0.3900 - val_accuracy: 1.0000\n",
            "Epoch 7/50\n",
            "4/4 [==============================] - 1s 129ms/step - loss: 1.0182 - accuracy: 0.4167 - val_loss: 1.0746 - val_accuracy: 0.6667\n",
            "Epoch 8/50\n",
            "4/4 [==============================] - 1s 127ms/step - loss: 0.5890 - accuracy: 0.7500 - val_loss: 1.5146 - val_accuracy: 0.3333\n",
            "Epoch 9/50\n",
            "4/4 [==============================] - 1s 139ms/step - loss: 0.6700 - accuracy: 0.5833 - val_loss: 1.4588 - val_accuracy: 0.0000e+00\n",
            "Epoch 10/50\n",
            "4/4 [==============================] - 1s 129ms/step - loss: 1.3839 - accuracy: 0.5833 - val_loss: 1.4332 - val_accuracy: 0.0000e+00\n",
            "Epoch 11/50\n",
            "4/4 [==============================] - 1s 140ms/step - loss: 0.8814 - accuracy: 0.6667 - val_loss: 1.2275 - val_accuracy: 0.0000e+00\n",
            "Epoch 12/50\n",
            "4/4 [==============================] - 1s 138ms/step - loss: 0.8467 - accuracy: 0.6667 - val_loss: 1.2422 - val_accuracy: 0.6667\n",
            "Epoch 13/50\n",
            "4/4 [==============================] - 1s 135ms/step - loss: 0.8985 - accuracy: 0.7500 - val_loss: 0.7233 - val_accuracy: 0.6667\n",
            "Epoch 14/50\n",
            "4/4 [==============================] - 1s 140ms/step - loss: 0.8650 - accuracy: 0.5000 - val_loss: 1.1084 - val_accuracy: 0.3333\n",
            "Epoch 15/50\n",
            "4/4 [==============================] - 1s 132ms/step - loss: 1.2290 - accuracy: 0.2500 - val_loss: 1.0256 - val_accuracy: 0.3333\n",
            "Epoch 16/50\n",
            "4/4 [==============================] - 1s 138ms/step - loss: 0.9155 - accuracy: 0.5833 - val_loss: 1.1582 - val_accuracy: 0.0000e+00\n",
            "Epoch 17/50\n",
            "4/4 [==============================] - 1s 135ms/step - loss: 1.1774 - accuracy: 0.4167 - val_loss: 1.1038 - val_accuracy: 0.0000e+00\n",
            "Epoch 18/50\n",
            "4/4 [==============================] - 1s 132ms/step - loss: 0.9326 - accuracy: 0.6667 - val_loss: 0.8787 - val_accuracy: 0.3333\n",
            "Epoch 19/50\n",
            "4/4 [==============================] - 1s 136ms/step - loss: 0.5884 - accuracy: 0.7500 - val_loss: 2.1449 - val_accuracy: 0.0000e+00\n",
            "Epoch 20/50\n",
            "4/4 [==============================] - 1s 127ms/step - loss: 1.1809 - accuracy: 0.6667 - val_loss: 1.3213 - val_accuracy: 0.0000e+00\n",
            "Epoch 21/50\n",
            "4/4 [==============================] - 1s 138ms/step - loss: 0.9848 - accuracy: 0.5000 - val_loss: 0.9680 - val_accuracy: 0.3333\n",
            "Epoch 22/50\n",
            "4/4 [==============================] - 1s 128ms/step - loss: 0.7086 - accuracy: 0.6667 - val_loss: 1.0298 - val_accuracy: 0.3333\n",
            "Epoch 23/50\n",
            "4/4 [==============================] - 1s 139ms/step - loss: 0.8430 - accuracy: 0.5000 - val_loss: 1.7715 - val_accuracy: 0.0000e+00\n",
            "Epoch 24/50\n",
            "4/4 [==============================] - 1s 126ms/step - loss: 1.3916 - accuracy: 0.5833 - val_loss: 0.8351 - val_accuracy: 0.6667\n",
            "Epoch 25/50\n",
            "4/4 [==============================] - 1s 138ms/step - loss: 0.9739 - accuracy: 0.5000 - val_loss: 0.8577 - val_accuracy: 0.3333\n",
            "Epoch 26/50\n",
            "4/4 [==============================] - 1s 138ms/step - loss: 0.9128 - accuracy: 0.5000 - val_loss: 1.2882 - val_accuracy: 0.0000e+00\n",
            "Epoch 27/50\n",
            "4/4 [==============================] - 1s 126ms/step - loss: 0.8972 - accuracy: 0.6667 - val_loss: 0.9547 - val_accuracy: 0.6667\n",
            "Epoch 28/50\n",
            "4/4 [==============================] - 1s 131ms/step - loss: 0.8437 - accuracy: 0.5000 - val_loss: 0.5993 - val_accuracy: 0.6667\n",
            "Epoch 29/50\n",
            "4/4 [==============================] - 1s 134ms/step - loss: 0.9920 - accuracy: 0.5833 - val_loss: 1.0093 - val_accuracy: 0.3333\n",
            "Epoch 30/50\n",
            "4/4 [==============================] - 1s 135ms/step - loss: 1.2957 - accuracy: 0.6667 - val_loss: 1.9105 - val_accuracy: 0.0000e+00\n",
            "Epoch 31/50\n",
            "4/4 [==============================] - 1s 139ms/step - loss: 0.7405 - accuracy: 0.6667 - val_loss: 1.0394 - val_accuracy: 0.3333\n",
            "Epoch 32/50\n",
            "4/4 [==============================] - 1s 134ms/step - loss: 0.7258 - accuracy: 0.8333 - val_loss: 0.4031 - val_accuracy: 0.6667\n",
            "Epoch 33/50\n",
            "4/4 [==============================] - 1s 136ms/step - loss: 0.8058 - accuracy: 0.6667 - val_loss: 13.5938 - val_accuracy: 0.3333\n",
            "Epoch 34/50\n",
            "4/4 [==============================] - 1s 129ms/step - loss: 1.0486 - accuracy: 0.5833 - val_loss: 1.1093 - val_accuracy: 0.3333\n",
            "Epoch 35/50\n",
            "4/4 [==============================] - 1s 137ms/step - loss: 0.8522 - accuracy: 0.8333 - val_loss: 4.7523 - val_accuracy: 0.0000e+00\n",
            "Epoch 36/50\n",
            "4/4 [==============================] - 1s 129ms/step - loss: 1.1010 - accuracy: 0.5833 - val_loss: 1.1083 - val_accuracy: 0.3333\n",
            "Epoch 37/50\n",
            "4/4 [==============================] - 1s 131ms/step - loss: 0.7862 - accuracy: 0.6667 - val_loss: 1.2098 - val_accuracy: 0.3333\n",
            "Epoch 38/50\n",
            "4/4 [==============================] - 1s 130ms/step - loss: 0.9528 - accuracy: 0.5000 - val_loss: 0.6805 - val_accuracy: 0.6667\n",
            "Epoch 39/50\n",
            "4/4 [==============================] - 1s 130ms/step - loss: 0.8621 - accuracy: 0.5000 - val_loss: 1.4170 - val_accuracy: 0.0000e+00\n",
            "Epoch 40/50\n",
            "4/4 [==============================] - 1s 138ms/step - loss: 0.8083 - accuracy: 0.7500 - val_loss: 1.1277 - val_accuracy: 0.3333\n",
            "Epoch 41/50\n",
            "4/4 [==============================] - 1s 141ms/step - loss: 0.6907 - accuracy: 0.7500 - val_loss: 0.7802 - val_accuracy: 0.6667\n",
            "Epoch 42/50\n",
            "4/4 [==============================] - 1s 130ms/step - loss: 0.8196 - accuracy: 0.5833 - val_loss: 1.6020 - val_accuracy: 0.3333\n",
            "Epoch 43/50\n",
            "4/4 [==============================] - 1s 138ms/step - loss: 1.1777 - accuracy: 0.6667 - val_loss: 1.3248 - val_accuracy: 0.3333\n",
            "Epoch 44/50\n",
            "4/4 [==============================] - 1s 142ms/step - loss: 1.0120 - accuracy: 0.7500 - val_loss: 2.3748 - val_accuracy: 0.0000e+00\n",
            "Epoch 45/50\n",
            "4/4 [==============================] - 1s 136ms/step - loss: 0.9957 - accuracy: 0.4167 - val_loss: 1.3639 - val_accuracy: 0.3333\n",
            "Epoch 46/50\n",
            "4/4 [==============================] - 1s 127ms/step - loss: 1.1015 - accuracy: 0.2500 - val_loss: 0.6591 - val_accuracy: 0.6667\n",
            "Epoch 47/50\n",
            "4/4 [==============================] - 1s 137ms/step - loss: 0.7845 - accuracy: 0.7500 - val_loss: 0.7645 - val_accuracy: 0.6667\n",
            "Epoch 48/50\n",
            "4/4 [==============================] - 1s 135ms/step - loss: 0.7952 - accuracy: 0.6667 - val_loss: 1.2801 - val_accuracy: 0.3333\n",
            "Epoch 49/50\n",
            "4/4 [==============================] - 1s 135ms/step - loss: 0.7482 - accuracy: 0.6667 - val_loss: 2.6448 - val_accuracy: 0.0000e+00\n",
            "Epoch 50/50\n",
            "4/4 [==============================] - 1s 141ms/step - loss: 0.4586 - accuracy: 0.9167 - val_loss: 2.6071 - val_accuracy: 0.0000e+00\n"
          ],
          "name": "stdout"
        },
        {
          "output_type": "execute_result",
          "data": {
            "text/plain": [
              "<tensorflow.python.keras.callbacks.History at 0x7f5c491a6fd0>"
            ]
          },
          "metadata": {
            "tags": []
          },
          "execution_count": 21
        }
      ]
    },
    {
      "cell_type": "code",
      "metadata": {
        "id": "gwIhpHHhHUXO"
      },
      "source": [
        "# img = image.load_img('hept.png', target_size=(150,150))\n",
        "# imgplot = plt.imshow(img)"
      ],
      "execution_count": null,
      "outputs": []
    },
    {
      "cell_type": "code",
      "metadata": {
        "id": "r1yJD1NEKNOY"
      },
      "source": [
        "# x = image.img_to_array(img)\n",
        "# x = np.expand_dims(x, axis=0)\n",
        "# images = np.vstack([x])\n",
        "# classes = model.predict(images, batch_size=3)\n",
        "# classes.all()"
      ],
      "execution_count": null,
      "outputs": []
    },
    {
      "cell_type": "code",
      "metadata": {
        "id": "H844FtYMKQTD"
      },
      "source": [
        "# y = model.predict(images, batch_size=3)\n",
        "# print(y)\n",
        "# print(np.argmax(y), np.max(y) )"
      ],
      "execution_count": null,
      "outputs": []
    },
    {
      "cell_type": "code",
      "metadata": {
        "colab": {
          "resources": {
            "http://localhost:8080/nbextensions/google.colab/files.js": {
              "data": "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",
              "ok": true,
              "headers": [
                [
                  "content-type",
                  "application/javascript"
                ]
              ],
              "status": 200,
              "status_text": ""
            }
          },
          "base_uri": "https://localhost:8080/",
          "height": 341
        },
        "id": "qkNN7ptzdGVY",
        "outputId": "3d629e9c-c175-4e1c-f780-8ac3dc130c00"
      },
      "source": [
        "%matplotlib inline\n",
        "\n",
        "uploaded = files.upload()\n",
        "for fn in uploaded.keys():\n",
        "  path = fn\n",
        "  img = image.load_img(path, target_size=(150,150))\n",
        "  imgplot = plt.imshow(img)\n",
        "  x = image.img_to_array(img)\n",
        "  x = np.expand_dims(x, axis=0)\n",
        "  images = np.vstack([x])\n",
        "  classes = model.predict(images, batch_size=9)\n",
        "  res = np.argmax(classes)\n",
        "\n",
        "  if res == 0:\n",
        "    print('Gambar ini berbentuk Circle')\n",
        "  elif res ==1:\n",
        "    print('Gambar ini berbentuk Heptagon')\n",
        "  elif res ==2:\n",
        "    print('Gambar ini berbentuk Triangle')\n",
        "  #print(fn)"
      ],
      "execution_count": 22,
      "outputs": [
        {
          "output_type": "display_data",
          "data": {
            "text/html": [
              "\n",
              "     <input type=\"file\" id=\"files-e2a090a8-3385-420e-8291-892c4e299ee4\" name=\"files[]\" multiple disabled\n",
              "        style=\"border:none\" />\n",
              "     <output id=\"result-e2a090a8-3385-420e-8291-892c4e299ee4\">\n",
              "      Upload widget is only available when the cell has been executed in the\n",
              "      current browser session. Please rerun this cell to enable.\n",
              "      </output>\n",
              "      <script src=\"/nbextensions/google.colab/files.js\"></script> "
            ],
            "text/plain": [
              "<IPython.core.display.HTML object>"
            ]
          },
          "metadata": {
            "tags": []
          }
        },
        {
          "output_type": "stream",
          "text": [
            "Saving Circle_00f6e2b8-2a84-11ea-8123-8363a7ec19e6.png to Circle_00f6e2b8-2a84-11ea-8123-8363a7ec19e6 (2).png\n",
            "Gambar ini berbentuk Circle\n"
          ],
          "name": "stdout"
        },
        {
          "output_type": "display_data",
          "data": {
            "image/png": "[encoded data removed]",
            "text/plain": [
              "<Figure size 432x288 with 1 Axes>"
            ]
          },
          "metadata": {
            "tags": [],
            "needs_background": "light"
          }
        }
      ]
    }
  ]
}